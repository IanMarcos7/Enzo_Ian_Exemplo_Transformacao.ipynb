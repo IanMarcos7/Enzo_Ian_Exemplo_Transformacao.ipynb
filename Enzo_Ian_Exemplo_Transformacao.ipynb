{
  "cells": [
    {
      "cell_type": "markdown",
      "metadata": {
        "id": "view-in-github",
        "colab_type": "text"
      },
      "source": [
        "<a href=\"https://colab.research.google.com/github/IanMarcos7/Enzo_Ian_Exemplo_Transformacao.ipynb/blob/main/Enzo_Ian_Exemplo_Transformacao.ipynb\" target=\"_parent\"><img src=\"https://colab.research.google.com/assets/colab-badge.svg\" alt=\"Open In Colab\"/></a>"
      ]
    },
    {
      "cell_type": "markdown",
      "metadata": {
        "id": "WhZZ4pWiNx7l"
      },
      "source": [
        "Universidade do Vale do Itajaí<br>\n",
        "Escola do Mar, Ciência e Tecnologia<br>\n",
        "Professor Felipe Viel\n",
        "\n",
        "# Exemplo de Operações Pontuais e Filtro em OpenCV\n",
        "\n",
        "### Tutoriais da OpenCV\n",
        "\n",
        "- https://docs.opencv.org/master/d9/df8/tutorial_root.html\n",
        "- https://www.geeksforgeeks.org/opencv-python-tutorial/"
      ]
    },
    {
      "cell_type": "markdown",
      "metadata": {
        "id": "8KzyJbE-Nx7q"
      },
      "source": [
        "## Conversão de imagem RGB em imagem Grayscale"
      ]
    },
    {
      "cell_type": "code",
      "execution_count": null,
      "metadata": {
        "id": "SPRHcibRNx7s"
      },
      "outputs": [],
      "source": [
        "import cv2 #importa a bibiloteca cv2\n",
        "import numpy as np #importa a biblioteca numpy com o apelido np\n",
        "import matplotlib.pyplot as plt #importa a biblioteca  matplotlib.pyplot com o apelido plt\n",
        "#caso for usar o Google Colab com a OpenCV, usar a lib abaixo\n",
        "from google.colab.patches import cv2_imshow #importa cv2_imshow de google.colab.patches"
      ]
    },
    {
      "cell_type": "code",
      "execution_count": null,
      "metadata": {
        "id": "QotrNpurNx7u"
      },
      "outputs": [],
      "source": [
        "#abrir a imagem\n",
        "img = cv2.imread('t1.jpg',1) #Carrega a imagem 't1.jpg'\n",
        "#caso for usar o Google Colab com a OpenCV,\n",
        "cv2_imshow(img) #Abre a imagem"
      ]
    },
    {
      "cell_type": "code",
      "execution_count": null,
      "metadata": {
        "id": "VLSzKpTtNx7v"
      },
      "outputs": [],
      "source": [
        "#mostrando a imagem colorida - caso você use Python no seu computador\n",
        "#reutilize para exibir as imagens em outros códigos\n",
        "#Voce pode descomentar o código apagando as aspas simples\n",
        "\n",
        "cv2.imshow('in', img) #Para exibir a imagem em uma janela\n",
        "cv2.waitKey(0) #Exibirá a janela infinitamente até que qualquer tecla seja pressionada\n",
        "cv2.destroyAllWindows() #Para fehcar a janela\n"
      ]
    },
    {
      "cell_type": "code",
      "execution_count": null,
      "metadata": {
        "id": "G2Q1PN3QNx7y"
      },
      "outputs": [],
      "source": [
        "#aplicando conversão ponderada - converte imagem colorida para preto e branco\n",
        "#img_grayscale_basic = 0.299*img[ : , : ,0] + 0.587*img[ : , : ,1] + 0.114*img[ : , : ,2]\n",
        "\n",
        "#cv2\n",
        "B, G, R = cv2.split(img) #divide canais de imagem colorida\n",
        "img_grayscale_pondered = 0.299*B+0.587*G+0.114*R #Regula tons de cinza da imagem\n",
        "\n",
        "img_grayscale_pondered = np.array(img_grayscale_pondered, dtype=np.uint8) #Transforma a imagem em uma matriz, utilizando o \"dtype=np.uint8\" para trabalhar com os 3 canais de cores da imagem\n",
        "\n",
        "cv2_imshow(img_grayscale_pondered) #Exibe a imagem\n"
      ]
    },
    {
      "cell_type": "markdown",
      "metadata": {
        "id": "bA2JoZjXNx78"
      },
      "source": [
        "## Transformações"
      ]
    },
    {
      "cell_type": "code",
      "execution_count": null,
      "metadata": {
        "id": "QGSulCVYNx78"
      },
      "outputs": [],
      "source": [
        "#negativo\n",
        "\n",
        "#img_negative[ : , : ,0] = 255 - img[ : , : ,0]\n",
        "#img_negative[ : , : ,1] = 255 - img[ : , : ,1]\n",
        "#img_negative[ : , : ,2] = 255 - img[ : , : ,2]\n",
        "\n",
        "#Mude a variavel colorida para 1 caso queira colorida, o para 0 caso queira em escala de cinza\n",
        "colorida = 1 #Cria a variavel coloriada atribiu valor \"1\" para a variavel\n",
        "img_in = cv2.imread('t1.jpg',colorida) #Cria a variavel 'img_in' e faz carregar a imagem 't1.jpg' puxando a variavel \"colorida\"\n",
        "\n",
        "img_out = 255 - img_in #Cria a variavel 'img_out' fazenco com que os valores da imagem fiquem colorida (caso colorida = 1) ou fiquem cinza (caso colorida = 0)\n",
        "cv2_imshow(img_in) #Exibirá a imagem padrão na jenala\n",
        "cv2_imshow(img_out) #Exibirá a imagem colorida ou cinza na jenala"
      ]
    },
    {
      "cell_type": "code",
      "execution_count": null,
      "metadata": {
        "id": "HMELaw10Nx8B"
      },
      "outputs": [],
      "source": [
        "#contraste e brilho\n",
        "img_in = cv2.imread('t1.jpg',0) #Carrega a imagem 't1.jpg'\n",
        "#altere os valores tanto de a quanto de b\n",
        "\n",
        "a = -1 #Atribui o valor para a varavel 'a' (Contraste)\n",
        "b = 1 #Atribui o valor para a varavel 'b' (Brilho)\n",
        "\n",
        "img_out = a*img_in + b #Aplica os valore de brilho e contraste na imagem\n",
        "\n",
        "img_out = np.array(img_out, dtype = np.uint8) #Transma a imagem em uma matriz, utilizando o \"dtype=np.uint8\" para trabalhar com os 3 canais de cores da imagem\n",
        "\n",
        "cv2_imshow(img_in) #Mostra a imagem padrão\n",
        "cv2_imshow(img_out) #Mostra a imagem com o contraste e brilho aplicados"
      ]
    },
    {
      "cell_type": "markdown",
      "metadata": {
        "id": "W8UZXLnRNx8E"
      },
      "source": [
        "## Filtro Espacial"
      ]
    },
    {
      "cell_type": "code",
      "execution_count": null,
      "metadata": {
        "id": "hWxjlsd9Nx8F"
      },
      "outputs": [],
      "source": [
        "#suavização\n",
        "#você pode ler sobre o conceito aqui: https://docs.opencv.org/4.x/d4/d13/tutorial_py_filtering.html\n",
        "img_in = cv2.imread('t1.jpg',0) #Carrega a imagem 't1.jpg'\n",
        "\n",
        "kernel = np.ones((5,5),np.float32)/25 #Gera a matriz kernel sendo 5x5 composta de vários 1, dividida por 25\n",
        "\n",
        "img_out_1 = cv2.filter2D(img_in,-1,kernel) #Aplica o filtro na imagem, sendo o '-1' o valor de profundidade de imagem e 'kernel' a matriz de filtro aplicada na imagem\n",
        "\n",
        "\n",
        "cv2_imshow(img_in) #Mostra a imagem padrão\n",
        "cv2_imshow(img_out_1) #Mostra a imagem com filtro\n",
        "\n"
      ]
    }
  ],
  "metadata": {
    "kernelspec": {
      "display_name": "Python 3",
      "language": "python",
      "name": "python3"
    },
    "language_info": {
      "codemirror_mode": {
        "name": "ipython",
        "version": 3
      },
      "file_extension": ".py",
      "mimetype": "text/x-python",
      "name": "python",
      "nbconvert_exporter": "python",
      "pygments_lexer": "ipython3",
      "version": "3.8.5"
    },
    "colab": {
      "provenance": [],
      "include_colab_link": true
    }
  },
  "nbformat": 4,
  "nbformat_minor": 0
}